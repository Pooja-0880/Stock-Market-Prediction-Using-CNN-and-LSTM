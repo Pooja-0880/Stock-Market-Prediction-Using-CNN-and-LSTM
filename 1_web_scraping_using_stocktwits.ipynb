{
 "cells": [
  {
   "cell_type": "code",
   "execution_count": 22,
   "id": "2042219a",
   "metadata": {
    "scrolled": false
   },
   "outputs": [],
   "source": [
    "# importing libraries for data manupulating \n",
    "import pandas as pd \n",
    "\n",
    "# Importing libraries for web_scraping \n",
    "import requests\n",
    "import json\n",
    "import datetime\n"
   ]
  },
  {
   "cell_type": "markdown",
   "id": "be90fec5",
   "metadata": {},
   "source": [
    "## Web Scraping from stocktwits "
   ]
  },
  {
   "cell_type": "code",
   "execution_count": 30,
   "id": "16143a25",
   "metadata": {},
   "outputs": [
    {
     "name": "stdout",
     "output_type": "stream",
     "text": [
      "Done Scrape  100  messages.\n",
      "Done Scrape  148  messages.\n",
      "Last ID:  179832997\n",
      "Done Scrape  19  messages.\n",
      "Last ID:  179832020\n",
      "Done Scrape  1  messages.\n",
      "Last ID:  179808098\n",
      "Done Scrape  4  messages.\n",
      "Last ID:  179832692\n",
      "Done Scrape  3  messages.\n",
      "Last ID:  179827245\n"
     ]
    }
   ],
   "source": [
    "def stocktwits_scrap(n,ticker,base=179808000):\n",
    "    id=[]\n",
    "    created_at=[]\n",
    "    body=[]\n",
    "    for i in range(n):\n",
    "        try:\n",
    "            url = \"https://api.stocktwits.com/api/2/streams/symbol/\"+ticker+\".json?max=\"+str(base+5000)+\"&since=\"+str(base)+\"&limit=30\"\n",
    "\n",
    "            base=base+5001\n",
    "\n",
    "            response = requests.request(\"GET\", url, headers={}, data ={})\n",
    "            response=response.json()\n",
    "            messages=response['messages']\n",
    "            iter=range(len(messages))\n",
    "            for idx in iter:\n",
    "                id.append(messages[idx]['id'])\n",
    "                created_at.append(messages[idx]['created_at'])\n",
    "                body.append(messages[idx]['body'])\n",
    "\n",
    "                if (len(id) % 100) == 0:\n",
    "                    print('Done Scrape ',len(id),' messages.')\n",
    "        except:\n",
    "            print('Warning Messages: \\n ID Out of Range or Too Many Requests within 1 Hour')\n",
    "            break\n",
    "    try:\n",
    "        df_stocktwits=pd.DataFrame(id,columns=['id'])\n",
    "        df_stocktwits['date_time']=created_at\n",
    "        df_stocktwits['date_time']=pd.to_datetime(df_stocktwits['date_time'])\n",
    "        df_stocktwits['tweet']=body\n",
    "        df_stocktwits=df_stocktwits.sort_values(by='date_time')\n",
    "        df_stocktwits=df_stocktwits.reset_index(drop=True)\n",
    "        print('Done Scrape ',len(id),' messages.')\n",
    "        print('Last ID: ',df_stocktwits.tail(1)['id'].values[0])\n",
    "        return(df_stocktwits,df_stocktwits.tail(1)['id'].values[0])\n",
    "    except:\n",
    "        print('Error')\n",
    "        return None,last_id\n",
    "\n",
    "\n",
    "def main():\n",
    "        # Technology : AAPL (Apple)\n",
    "        # Semiconductors: NVDA (NVIDIA Corporation)\n",
    "        # Financial : MA (Master Card)\n",
    "        # Consumer defensive : PG (Procter & Gamble Co)\n",
    "        # Healthcare : PFE (Pfizer inc.)\n",
    "        \n",
    "        n = 5 \n",
    "        \n",
    "        d = {\"technology\":\"AAPL\",\"semiconductors\":\"NVDA\",\"financial\":\"MA\",\n",
    "             \"consumer_defensive\":\"PG\",\"healthcare\":\"PFE\"}\n",
    "        for ticker in d:\n",
    "            df_stocktwits, last_id = stocktwits_scrap(n,d[ticker])\n",
    "\n",
    "            df_stocktwits.to_csv(\"df_stocktwits_\"+ticker+\".csv\")\n",
    "    \n",
    "if __name__ == '__main__':\n",
    "        main()"
   ]
  },
  {
   "cell_type": "code",
   "execution_count": 36,
   "id": "20f4b6fb",
   "metadata": {
    "scrolled": true
   },
   "outputs": [
    {
     "data": {
      "text/html": [
       "<div>\n",
       "<style scoped>\n",
       "    .dataframe tbody tr th:only-of-type {\n",
       "        vertical-align: middle;\n",
       "    }\n",
       "\n",
       "    .dataframe tbody tr th {\n",
       "        vertical-align: top;\n",
       "    }\n",
       "\n",
       "    .dataframe thead th {\n",
       "        text-align: right;\n",
       "    }\n",
       "</style>\n",
       "<table border=\"1\" class=\"dataframe\">\n",
       "  <thead>\n",
       "    <tr style=\"text-align: right;\">\n",
       "      <th></th>\n",
       "      <th>id</th>\n",
       "      <th>date_time</th>\n",
       "      <th>tweet</th>\n",
       "    </tr>\n",
       "  </thead>\n",
       "  <tbody>\n",
       "    <tr>\n",
       "      <th>0</th>\n",
       "      <td>179808024</td>\n",
       "      <td>2019-10-08 18:10:43+00:00</td>\n",
       "      <td>$AAPL I want some twist here 😂</td>\n",
       "    </tr>\n",
       "    <tr>\n",
       "      <th>1</th>\n",
       "      <td>179808095</td>\n",
       "      <td>2019-10-08 18:11:18+00:00</td>\n",
       "      <td>$AAPL Cannot take down the big dog!! RIP bears</td>\n",
       "    </tr>\n",
       "    <tr>\n",
       "      <th>2</th>\n",
       "      <td>179808196</td>\n",
       "      <td>2019-10-08 18:12:03+00:00</td>\n",
       "      <td>$AAPL NBA licks China&amp;#39;s ass when they go &amp;...</td>\n",
       "    </tr>\n",
       "    <tr>\n",
       "      <th>3</th>\n",
       "      <td>179808498</td>\n",
       "      <td>2019-10-08 18:14:21+00:00</td>\n",
       "      <td>$AAPL adding more if they are brave enough to ...</td>\n",
       "    </tr>\n",
       "    <tr>\n",
       "      <th>4</th>\n",
       "      <td>179808630</td>\n",
       "      <td>2019-10-08 18:15:27+00:00</td>\n",
       "      <td>$aapl bear flag it</td>\n",
       "    </tr>\n",
       "    <tr>\n",
       "      <th>5</th>\n",
       "      <td>179808639</td>\n",
       "      <td>2019-10-08 18:15:31+00:00</td>\n",
       "      <td>$AAPL Powell will make this drop</td>\n",
       "    </tr>\n",
       "    <tr>\n",
       "      <th>6</th>\n",
       "      <td>179808685</td>\n",
       "      <td>2019-10-08 18:15:51+00:00</td>\n",
       "      <td>$AAPL Added 1 225 10/18 put</td>\n",
       "    </tr>\n",
       "  </tbody>\n",
       "</table>\n",
       "</div>"
      ],
      "text/plain": [
       "          id                  date_time  \\\n",
       "0  179808024  2019-10-08 18:10:43+00:00   \n",
       "1  179808095  2019-10-08 18:11:18+00:00   \n",
       "2  179808196  2019-10-08 18:12:03+00:00   \n",
       "3  179808498  2019-10-08 18:14:21+00:00   \n",
       "4  179808630  2019-10-08 18:15:27+00:00   \n",
       "5  179808639  2019-10-08 18:15:31+00:00   \n",
       "6  179808685  2019-10-08 18:15:51+00:00   \n",
       "\n",
       "                                               tweet  \n",
       "0                     $AAPL I want some twist here 😂  \n",
       "1     $AAPL Cannot take down the big dog!! RIP bears  \n",
       "2  $AAPL NBA licks China&#39;s ass when they go &...  \n",
       "3  $AAPL adding more if they are brave enough to ...  \n",
       "4                                 $aapl bear flag it  \n",
       "5                   $AAPL Powell will make this drop  \n",
       "6                        $AAPL Added 1 225 10/18 put  "
      ]
     },
     "execution_count": 36,
     "metadata": {},
     "output_type": "execute_result"
    }
   ],
   "source": [
    "df = pd.read_csv(\"df_stocktwits_technology.csv\", usecols=['id','date_time','tweet'])\n",
    "df[:7]"
   ]
  },
  {
   "cell_type": "code",
   "execution_count": null,
   "id": "ee75a59b",
   "metadata": {},
   "outputs": [],
   "source": []
  },
  {
   "cell_type": "code",
   "execution_count": null,
   "id": "2d3acfac",
   "metadata": {},
   "outputs": [],
   "source": [
    "# Industries considered in paper         \n",
    "#finance : \n",
    "# Manufacturing: \n",
    "# Mining: \n",
    "# Energy : \n",
    "# Transportation: "
   ]
  }
 ],
 "metadata": {
  "kernelspec": {
   "display_name": "Python 3 (ipykernel)",
   "language": "python",
   "name": "python3"
  },
  "language_info": {
   "codemirror_mode": {
    "name": "ipython",
    "version": 3
   },
   "file_extension": ".py",
   "mimetype": "text/x-python",
   "name": "python",
   "nbconvert_exporter": "python",
   "pygments_lexer": "ipython3",
   "version": "3.7.11"
  }
 },
 "nbformat": 4,
 "nbformat_minor": 5
}
